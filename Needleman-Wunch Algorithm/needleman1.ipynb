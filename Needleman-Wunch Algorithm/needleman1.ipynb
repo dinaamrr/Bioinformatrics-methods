{
 "cells": [
  {
   "cell_type": "code",
   "execution_count": 14,
   "metadata": {},
   "outputs": [
    {
     "name": "stdout",
     "output_type": "stream",
     "text": [
      "Input is ('ACTGATTCA','ACGCATCA')\n",
      "[[ 0. -1. -2. -3. -4. -5. -6. -7. -8.]\n",
      " [-1.  2.  0. -2. -4. -2. -4. -6. -5.]\n",
      " [-2.  0.  4.  2.  0. -2. -4. -2. -4.]\n",
      " [-3. -2.  2.  1. -1. -3.  0. -2. -4.]\n",
      " [-4. -4.  0.  4.  2.  0. -2. -3. -5.]\n",
      " [-5. -2. -2.  2.  1.  4.  2.  0. -1.]\n",
      " [-6. -4. -4.  0. -1.  2.  6.  4.  2.]\n",
      " [-7. -6. -6. -2. -3.  0.  4.  3.  1.]\n",
      " [-8. -8. -4. -4.  0. -2.  2.  6.  4.]\n",
      " [-9. -6. -6. -6. -2.  2.  0.  4.  8.]]\n",
      "Result is : ('ACTG_ATTCA', 'AC_GCA_TCA')\n"
     ]
    }
   ],
   "source": [
    "import pandas as pd\n",
    "import numpy as np\n",
    "\n",
    "gap_penalty=-2   #You can change this score \n",
    "match_score=2\n",
    "mismatch_score=-3\n",
    "\n",
    "def initialize(r,c):\n",
    "    mat=np.zeros((r+1,c+1))\n",
    "    mat[0]=[-i for i in range(len(mat[0]))]\n",
    "    mat[:,0]=[-i for i in range(len(mat[:,0]))]\n",
    "    return(mat)\n",
    "\n",
    "def match(seq1,seq2):\n",
    "    mat=np.ones((len(seq1),len(seq2)))\n",
    "    for i in range(len(seq1)):\n",
    "        for j in range(len(seq2)):\n",
    "            if(seq1[i]==seq2[j]):\n",
    "                mat[i,j]=match_score\n",
    "            else:\n",
    "                mat[i,j]=mismatch_score\n",
    "    return(mat)\n",
    "\n",
    "def backtrack(mat,seq1,seq2,match_table):\n",
    "    s1=\"\"\n",
    "    s2=\"\"\n",
    "    i=len(seq1)\n",
    "    j=len(seq2)\n",
    "    while(i>0 or j>0):\n",
    "        if(i>0 and j>0 and mat[i,j]==mat[i-1,j-1]+match_table[i-1,j-1]): #diagnol no align\n",
    "            s1 = seq1[i-1] + s1\n",
    "            s2 = seq2[j-1] + s2\n",
    "            i = i-1\n",
    "            j = j-1\n",
    "        elif(i>0 and mat[i,j]==mat[i-1,j]+gap_penalty): #horizontal align in 2nd seq\n",
    "            s1 = seq1[i-1] + s1\n",
    "            s2 = '_' + s2\n",
    "            i =i-1\n",
    "        else: #vertical align in 1st seq\n",
    "            s1 = '_' + s1\n",
    "            s2 = seq2[j-1] + s2\n",
    "            j =j-1            \n",
    "    return(s1,s2)\n",
    "\n",
    "def matrix(mat,match_table):\n",
    "    for i in range(1,mat.shape[0]):\n",
    "        for j in range(1,mat.shape[1]):\n",
    "            a=mat[i-1,j]+gap_penalty\n",
    "            b=mat[i,j-1]+gap_penalty\n",
    "            c=mat[i-1,j-1]+match_table[i-1,j-1]\n",
    "            mat[i,j]=max(a,b,c)\n",
    "    return(mat)\n",
    "\n",
    "def n_w(seq1,seq2):\n",
    "    \n",
    "    mat=initialize(len(seq1),len(seq2))\n",
    "    match_table=match(seq1,seq2)\n",
    "    mat=matrix(mat,match_table)\n",
    "    alignment=backtrack(mat,seq1,seq2,match_table)\n",
    "    print(mat)\n",
    "    return(alignment)\n",
    "\n",
    "\n",
    "print(\"Input is ('ACTGATTCA','ACGCATCA')\")\n",
    "print(\"Result is :\",n_w('ACTGATTCA','ACGCATCA'))"
   ]
  },
  {
   "cell_type": "code",
   "execution_count": null,
   "metadata": {},
   "outputs": [],
   "source": []
  }
 ],
 "metadata": {
  "kernelspec": {
   "display_name": "Python 3",
   "language": "python",
   "name": "python3"
  },
  "language_info": {
   "codemirror_mode": {
    "name": "ipython",
    "version": 3
   },
   "file_extension": ".py",
   "mimetype": "text/x-python",
   "name": "python",
   "nbconvert_exporter": "python",
   "pygments_lexer": "ipython3",
   "version": "3.8.3"
  }
 },
 "nbformat": 4,
 "nbformat_minor": 4
}
