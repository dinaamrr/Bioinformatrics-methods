{
 "cells": [
  {
   "cell_type": "code",
   "execution_count": 31,
   "metadata": {},
   "outputs": [
    {
     "name": "stdout",
     "output_type": "stream",
     "text": [
      "[[1. 0. 1. 1. 0. 0. 0. 1.]\n",
      " [0. 1. 0. 0. 1. 1. 0. 0.]\n",
      " [0. 0. 0. 0. 0. 0. 0. 0.]\n",
      " [0. 0. 0. 0. 0. 0. 0. 0.]\n",
      " [0. 0. 0. 0. 0. 0. 1. 0.]\n",
      " [0. 1. 0. 0. 1. 1. 0. 0.]\n",
      " [1. 0. 1. 1. 0. 0. 0. 1.]]\n",
      "[[ 0 -1 -2 -3 -4 -5 -6 -7 -8]\n",
      " [-1  0  0  0  0  0  0  0  0]\n",
      " [-2  0  0  0  0  0  0  0  0]\n",
      " [-3  0  0  0  0  0  0  0  0]\n",
      " [-4  0  0  0  0  0  0  0  0]\n",
      " [-5  0  0  0  0  0  0  0  0]\n",
      " [-6  0  0  0  0  0  0  0  0]\n",
      " [-7  0  0  0  0  0  0  0  0]]\n",
      "seq1= ATGGCTA\n",
      "seq2= ATAATTCA\n",
      "\n",
      "\n",
      "score matrix \n",
      "\n",
      "[[ 0 -1 -2 -3 -4 -5 -6 -7 -8]\n",
      " [-1  1  0 -1 -2 -3 -4 -5 -6]\n",
      " [-2  0  2  1  0 -1 -2 -3 -4]\n",
      " [-3 -1  1  1  0 -1 -2 -3 -4]\n",
      " [-4 -2  0  0  0 -1 -2 -3 -4]\n",
      " [-5 -3 -1 -1 -1 -1 -2 -1 -2]\n",
      " [-6 -4 -2 -2 -2  0  0 -1 -2]\n",
      " [-7 -5 -3 -1 -1 -1 -1 -1  0]]\n"
     ]
    }
   ],
   "source": [
    "import numpy as np\n",
    "\n",
    "\n",
    "seq1='ATGGCTA'\n",
    "seq2= 'ATAATTCA'\n",
    "\n",
    "\n",
    "m = len(seq1)\n",
    "n = len(seq2) \n",
    "score_mat = np.zeros((m+1, n+1), dtype=int)\n",
    "\n",
    "match=1\n",
    "gap= mismatch= -1\n",
    "score_mat[0][0] = 0\n",
    "\n",
    "for i in range(0,m+1):\n",
    "\tscore_mat[i][0] = i * gap \n",
    "for j in range(0,n+1):\n",
    "\tscore_mat[0][j] = j * gap \n",
    "s_matrix=np.zeros((len(seq1),len(seq2)))\n",
    "for i in range(len(seq1)):\n",
    "    for j in range(len(seq2)):\n",
    "        if seq1[i]==seq2[j]:\n",
    "            s_matrix[i][j]=1\n",
    "        else:     \n",
    "            s_matrix[i][j]=0\n",
    "print(s_matrix)\n",
    "print (score_mat)\n",
    "\n",
    "\n",
    "def Align(x,y):\n",
    "\tif x==y:\n",
    "\t\treturn match\n",
    "\telif x!= y:\n",
    "\t\treturn mismatch\t\n",
    "\telif x == '-' or y == '-':\n",
    "\t\treturn gap\t\n",
    "\n",
    "def NeedlemanWunchScoring(seq1, seq2, n, m):\n",
    "\t#fill the other entries of the matrix\n",
    "\tfor i in range(1, m+1):\n",
    "\t\tfor j in range(1, n+1):\n",
    "\t\t\tmatch  = score_mat[i-1][j-1] + Align(seq1[i-1], seq2[j-1])\n",
    "\t\t\tdelete = score_mat[i-1][j]   +  gap\n",
    "\t\t\tinsert = score_mat[i][j-1]   +  gap\n",
    "\t\t\tscore_mat[i][j] = max(match, delete, insert)\n",
    "\t\t\t#print seq1[i-1], seq2[j-1], score_mat[i-1][j-1]\n",
    "\treturn score_mat\t\t\n",
    "\n",
    "\n",
    "Final_mat=NeedlemanWunchScoring(seq1, seq2, n, m)\n",
    "\n",
    "print (\"seq1=\", seq1 +\"\\n\" + \"seq2=\", seq2)\n",
    "\n",
    "print ('\\n\\nscore matrix \\n')\n",
    "\n",
    "print (Final_mat)\n",
    "\n",
    "AlignmentA=\"\"\n",
    "AlignmentB=\"\"\n",
    "i=len(seq1)\n",
    "j=len(seq2)\n",
    "while (i >0 or j >0):\n",
    "\n",
    "  if (i > 0 and j > 0 and score_mat[i][j] == score_mat[i-1][j-1] + s_matrix[i-1][j-1]):\n",
    "  \n",
    "    AlignmentA=seq1[i-1] + AlignmentA\n",
    "    AlignmentB=seq2[j-1] + AlignmentB\n",
    "    i=i - 1\n",
    "    j=j - 1\n",
    "\n",
    "  elif (i > 0 and score_mat[i][j] == score_mat[i-1][j] + gap):\n",
    "  \n",
    "    AlignmentA=seq1[i-1] + AlignmentA\n",
    "    AlignmentB=\"-\" + AlignmentB\n",
    "    i=i - 1\n",
    "  \n",
    "  else:\n",
    "  \n",
    "    AlignmentA=\"-\" + AlignmentA\n",
    "    AlignmentB=seq2[j-1] + AlignmentB\n",
    "    j=j - 1\n"
   ]
  },
  {
   "cell_type": "code",
   "execution_count": 32,
   "metadata": {},
   "outputs": [
    {
     "data": {
      "text/plain": [
       "'ATG-G-C-T-A'"
      ]
     },
     "execution_count": 32,
     "metadata": {},
     "output_type": "execute_result"
    }
   ],
   "source": [
    " AlignmentA\n"
   ]
  },
  {
   "cell_type": "code",
   "execution_count": 33,
   "metadata": {},
   "outputs": [
    {
     "data": {
      "text/plain": [
       "'AT-A-A-TTCA'"
      ]
     },
     "execution_count": 33,
     "metadata": {},
     "output_type": "execute_result"
    }
   ],
   "source": [
    "AlignmentB\n",
    "\n"
   ]
  },
  {
   "cell_type": "code",
   "execution_count": null,
   "metadata": {},
   "outputs": [],
   "source": []
  }
 ],
 "metadata": {
  "kernelspec": {
   "display_name": "Python 3",
   "language": "python",
   "name": "python3"
  },
  "language_info": {
   "codemirror_mode": {
    "name": "ipython",
    "version": 3
   },
   "file_extension": ".py",
   "mimetype": "text/x-python",
   "name": "python",
   "nbconvert_exporter": "python",
   "pygments_lexer": "ipython3",
   "version": "3.8.3"
  }
 },
 "nbformat": 4,
 "nbformat_minor": 4
}
