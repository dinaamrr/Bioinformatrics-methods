{
 "cells": [
  {
   "cell_type": "code",
   "execution_count": 5,
   "metadata": {},
   "outputs": [],
   "source": [
    "import numpy as np\n",
    "seq1='TTCATA'\n",
    "seq2='TGCTCGTA'"
   ]
  },
  {
   "cell_type": "code",
   "execution_count": 6,
   "metadata": {},
   "outputs": [],
   "source": [
    "matrix=np.zeros((len(seq1)+1,len(seq2)+1))"
   ]
  },
  {
   "cell_type": "code",
   "execution_count": 7,
   "metadata": {},
   "outputs": [
    {
     "data": {
      "text/plain": [
       "array([[1., 0., 0., 1., 0., 0., 1., 0.],\n",
       "       [1., 0., 0., 1., 0., 0., 1., 0.],\n",
       "       [0., 0., 1., 0., 1., 0., 0., 0.],\n",
       "       [0., 0., 0., 0., 0., 0., 0., 1.],\n",
       "       [1., 0., 0., 1., 0., 0., 1., 0.],\n",
       "       [0., 0., 0., 0., 0., 0., 0., 1.]])"
      ]
     },
     "execution_count": 7,
     "metadata": {},
     "output_type": "execute_result"
    }
   ],
   "source": [
    "s_matrix=np.zeros((len(seq1),len(seq2)))\n",
    "for i in range(len(seq1)):\n",
    "    for j in range(len(seq2)):\n",
    "        if seq1[i]==seq2[j]:\n",
    "            s_matrix[i][j]=1\n",
    "        else:     \n",
    "            s_matrix[i][j]=0\n",
    "s_matrix"
   ]
  },
  {
   "cell_type": "code",
   "execution_count": 8,
   "metadata": {},
   "outputs": [],
   "source": [
    "match_score=2\n",
    "mismatch_score=-1\n",
    "gap_penalty=-1"
   ]
  },
  {
   "cell_type": "code",
   "execution_count": 9,
   "metadata": {},
   "outputs": [],
   "source": [
    "def Align(x,y):\n",
    "\tif x==y:\n",
    "\t\treturn match_score\n",
    "\telif x!= y:\n",
    "\t\treturn mismatch_score\t\n",
    "\telif x == '-' or y == '-':\n",
    "\t\treturn gap_penalty"
   ]
  },
  {
   "cell_type": "code",
   "execution_count": 10,
   "metadata": {},
   "outputs": [],
   "source": [
    "def smith_waterman(matrix):\n",
    "   for i in range(1,len(seq1)+1):\n",
    "       for j in range(1,len(seq2)+1):\n",
    "            value=max(matrix[i-1][j-1]+Align(seq1[i-1],seq2[j-1]),matrix[i-1][j]+gap_penalty,matrix[i][j-1]+gap_penalty,0)\n",
    "            if value>=0:\n",
    "                matrix[i][j]=value\n",
    "   return(matrix)"
   ]
  },
  {
   "cell_type": "code",
   "execution_count": 11,
   "metadata": {},
   "outputs": [
    {
     "data": {
      "text/plain": [
       "array([[0., 0., 0., 0., 0., 0., 0., 0., 0.],\n",
       "       [0., 2., 1., 0., 2., 1., 0., 2., 1.],\n",
       "       [0., 2., 1., 0., 2., 1., 0., 2., 1.],\n",
       "       [0., 1., 1., 3., 2., 4., 3., 2., 1.],\n",
       "       [0., 0., 0., 2., 2., 3., 3., 2., 4.],\n",
       "       [0., 2., 1., 1., 4., 3., 2., 5., 4.],\n",
       "       [0., 1., 1., 0., 3., 3., 2., 4., 7.]])"
      ]
     },
     "execution_count": 11,
     "metadata": {},
     "output_type": "execute_result"
    }
   ],
   "source": [
    "smith_waterman(matrix)"
   ]
  },
  {
   "cell_type": "code",
   "execution_count": 12,
   "metadata": {},
   "outputs": [],
   "source": [
    "def modified(matrix):\n",
    "   for i in range(1,len(seq1)+1):\n",
    "       for j in range(1,len(seq2)+1):\n",
    "            value=max(matrix[i-1][j-1]+s_matrix[i-1][j-1],matrix[i-1][j]+gap_penalty,matrix[i][j-1]+gap_penalty)\n",
    "            if value>=0:\n",
    "                matrix[i][j]=value\n",
    "   return(matrix)"
   ]
  },
  {
   "cell_type": "code",
   "execution_count": 13,
   "metadata": {},
   "outputs": [
    {
     "data": {
      "text/plain": [
       "array([[0., 0., 0., 0., 0., 0., 0., 0., 0.],\n",
       "       [0., 1., 0., 0., 1., 0., 0., 1., 0.],\n",
       "       [0., 1., 1., 0., 1., 1., 0., 1., 1.],\n",
       "       [0., 0., 1., 2., 1., 2., 1., 0., 1.],\n",
       "       [0., 0., 0., 1., 2., 1., 2., 1., 1.],\n",
       "       [0., 1., 0., 0., 2., 2., 1., 3., 2.],\n",
       "       [0., 0., 1., 0., 1., 2., 2., 2., 4.]])"
      ]
     },
     "execution_count": 13,
     "metadata": {},
     "output_type": "execute_result"
    }
   ],
   "source": [
    "modified(matrix)"
   ]
  },
  {
   "cell_type": "code",
   "execution_count": 14,
   "metadata": {},
   "outputs": [
    {
     "data": {
      "text/plain": [
       "8"
      ]
     },
     "execution_count": 14,
     "metadata": {},
     "output_type": "execute_result"
    }
   ],
   "source": [
    "m=matrix.shape[0]\n",
    "k=matrix[m-1:m,:]\n",
    "for i in range(k.shape[1]):\n",
    "    if matrix[m-1][i]==np.amax(k):\n",
    "        nl=i\n",
    "nl"
   ]
  },
  {
   "cell_type": "code",
   "execution_count": 15,
   "metadata": {},
   "outputs": [],
   "source": [
    "AlignmentA=\"\"\n",
    "AlignmentB=\"\"\n",
    "i=len(seq1)\n",
    "j=nl\n",
    "while(matrix[i,j]!=0 and (i>0 or j>0)):\n",
    "  if (i > 0 and j > 0 and matrix[i][j] == matrix[i-1][j-1] + s_matrix[i-1][j-1]):\n",
    "  \n",
    "    AlignmentA=seq1[i-1] + AlignmentA\n",
    "    AlignmentB=seq2[j-1] + AlignmentB\n",
    "    i=i - 1\n",
    "    j=j - 1\n",
    "\n",
    "  elif (i > 0 and matrix[i][j] == matrix[i-1][j] + gap_penalty):\n",
    "  \n",
    "    AlignmentA=seq1[i-1] + AlignmentA\n",
    "    AlignmentB=\"-\" + AlignmentB\n",
    "    i=i - 1\n",
    "  \n",
    "  else:\n",
    "  \n",
    "    AlignmentA=\"-\" + AlignmentA\n",
    "    AlignmentB=seq2[j-1] + AlignmentB\n",
    "    j=j - 1"
   ]
  },
  {
   "cell_type": "code",
   "execution_count": 16,
   "metadata": {},
   "outputs": [
    {
     "data": {
      "text/plain": [
       "'TCATA'"
      ]
     },
     "execution_count": 16,
     "metadata": {},
     "output_type": "execute_result"
    }
   ],
   "source": [
    "AlignmentA"
   ]
  },
  {
   "cell_type": "code",
   "execution_count": 17,
   "metadata": {},
   "outputs": [
    {
     "data": {
      "text/plain": [
       "'TCGTA'"
      ]
     },
     "execution_count": 17,
     "metadata": {},
     "output_type": "execute_result"
    }
   ],
   "source": [
    "AlignmentB"
   ]
  },
  {
   "cell_type": "code",
   "execution_count": null,
   "metadata": {},
   "outputs": [],
   "source": []
  },
  {
   "cell_type": "code",
   "execution_count": null,
   "metadata": {},
   "outputs": [],
   "source": []
  }
 ],
 "metadata": {
  "kernelspec": {
   "display_name": "Python 3",
   "language": "python",
   "name": "python3"
  },
  "language_info": {
   "codemirror_mode": {
    "name": "ipython",
    "version": 3
   },
   "file_extension": ".py",
   "mimetype": "text/x-python",
   "name": "python",
   "nbconvert_exporter": "python",
   "pygments_lexer": "ipython3",
   "version": "3.8.3"
  }
 },
 "nbformat": 4,
 "nbformat_minor": 4
}
